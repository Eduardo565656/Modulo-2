{
 "cells": [
  {
   "cell_type": "code",
   "execution_count": null,
   "id": "5647742c",
   "metadata": {},
   "outputs": [],
   "source": [
    "entero = 7\n",
    "flotante = 3,14\n",
    "string = \"Hola\"\n",
    "booleano = True"
   ]
  },
  {
   "cell_type": "code",
   "execution_count": 1,
   "id": "45046542",
   "metadata": {},
   "outputs": [
    {
     "ename": "NameError",
     "evalue": "name 'entero' is not defined",
     "output_type": "error",
     "traceback": [
      "\u001b[1;31m---------------------------------------------------------------------------\u001b[0m",
      "\u001b[1;31mNameError\u001b[0m                                 Traceback (most recent call last)",
      "Cell \u001b[1;32mIn[1], line 9\u001b[0m\n\u001b[0;32m      6\u001b[0m         \u001b[38;5;28mself\u001b[39m\u001b[38;5;241m.\u001b[39mbooleano \u001b[38;5;241m=\u001b[39m booleano\n\u001b[0;32m      8\u001b[0m \u001b[38;5;66;03m# Crear una instancia usando las variables ya definidas\u001b[39;00m\n\u001b[1;32m----> 9\u001b[0m ejemplo \u001b[38;5;241m=\u001b[39m Ejemplo(entero, flotante, string, booleano)\n",
      "\u001b[1;31mNameError\u001b[0m: name 'entero' is not defined"
     ]
    }
   ],
   "source": [
    "class Ejemplo:\n",
    "    def __init__(self, entero, flotante, string, booleano):\n",
    "        self.entero = entero\n",
    "        self.flotante = flotante\n",
    "        self.string = string\n",
    "        self.booleano = booleano\n",
    "\n",
    "# Crear una instancia usando las variables ya definidas\n",
    "ejemplo = Ejemplo(entero, flotante, string, booleano)"
   ]
  }
 ],
 "metadata": {
  "kernelspec": {
   "display_name": "base",
   "language": "python",
   "name": "python3"
  },
  "language_info": {
   "codemirror_mode": {
    "name": "ipython",
    "version": 3
   },
   "file_extension": ".py",
   "mimetype": "text/x-python",
   "name": "python",
   "nbconvert_exporter": "python",
   "pygments_lexer": "ipython3",
   "version": "3.13.5"
  }
 },
 "nbformat": 4,
 "nbformat_minor": 5
}
