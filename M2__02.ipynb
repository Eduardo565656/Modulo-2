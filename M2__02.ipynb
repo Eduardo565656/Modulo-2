{
 "cells": [
  {
   "cell_type": "code",
   "execution_count": null,
   "id": "061725e5",
   "metadata": {},
   "outputs": [],
   "source": [
    "nota_1 = 2\n",
    "nota_2 = 5\n",
    "nota_3 = 19\n",
    "nota_4 = 23\n",
    "nota_5 = 30\n"
   ]
  },
  {
   "cell_type": "code",
   "execution_count": 4,
   "id": "ce68d10c",
   "metadata": {},
   "outputs": [
    {
     "ename": "SyntaxError",
     "evalue": "closing parenthesis ']' does not match opening parenthesis '(' (3129210143.py, line 3)",
     "output_type": "error",
     "traceback": [
      "\u001b[1;36m  Cell \u001b[1;32mIn[4], line 3\u001b[1;36m\u001b[0m\n\u001b[1;33m    math.fsum(nota_1, nota_2, nota_3, nota_4, nota_5]) / 5\u001b[0m\n\u001b[1;37m                                                    ^\u001b[0m\n\u001b[1;31mSyntaxError\u001b[0m\u001b[1;31m:\u001b[0m closing parenthesis ']' does not match opening parenthesis '('\n"
     ]
    }
   ],
   "source": [
    "import math\n",
    "promedio =\n",
    "math.fsum(nota_1, nota_2, nota_3, nota_4, nota_5]) / 5\n"
   ]
  }
 ],
 "metadata": {
  "kernelspec": {
   "display_name": "base",
   "language": "python",
   "name": "python3"
  },
  "language_info": {
   "codemirror_mode": {
    "name": "ipython",
    "version": 3
   },
   "file_extension": ".py",
   "mimetype": "text/x-python",
   "name": "python",
   "nbconvert_exporter": "python",
   "pygments_lexer": "ipython3",
   "version": "3.13.5"
  }
 },
 "nbformat": 4,
 "nbformat_minor": 5
}
