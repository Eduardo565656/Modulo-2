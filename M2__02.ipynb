{
 "cells": [
  {
   "cell_type": "code",
   "execution_count": 6,
   "id": "ce68d10c",
   "metadata": {},
   "outputs": [],
   "source": [
    "nota_1= 30\n",
    "nota_2= 50\n",
    "nota_3= 70\n",
    "nota_4= 90\n",
    "nota_5= 100\n",
    "\n"
   ]
  },
  {
   "cell_type": "code",
   "execution_count": 9,
   "id": "bcadb457",
   "metadata": {},
   "outputs": [
    {
     "name": "stdout",
     "output_type": "stream",
     "text": [
      "68.0\n"
     ]
    }
   ],
   "source": [
    "import math\n",
    "promedio = math.fsum([nota_1, nota_2, nota_3, nota_4, nota_5]) / 5\n",
    "print(promedio)"
   ]
  },
  {
   "cell_type": "code",
   "execution_count": null,
   "id": "c99fc881",
   "metadata": {},
   "outputs": [],
   "source": [
    "username = input(\"Escribe un nombre de usuario: eduardomuñoz33\")   \n",
    "password = input(\"Escribe una password: 1234\")\n",
    "print(\"Username:\", len(username) >= 6 and len(username) < 12)\n",
    "print(\"Password:\", password == \"Curso\" or password == \"Python\")\n"
   ]
  }
 ],
 "metadata": {
  "kernelspec": {
   "display_name": "base",
   "language": "python",
   "name": "python3"
  },
  "language_info": {
   "codemirror_mode": {
    "name": "ipython",
    "version": 3
   },
   "file_extension": ".py",
   "mimetype": "text/x-python",
   "name": "python",
   "nbconvert_exporter": "python",
   "pygments_lexer": "ipython3",
   "version": "3.13.5"
  }
 },
 "nbformat": 4,
 "nbformat_minor": 5
}
